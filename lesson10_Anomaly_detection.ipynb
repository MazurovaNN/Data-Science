{
  "cells": [
    {
      "cell_type": "markdown",
      "metadata": {
        "id": "view-in-github",
        "colab_type": "text"
      },
      "source": [
        "<a href=\"https://colab.research.google.com/github/MazurovaNN/Data-Science/blob/main/lesson10_Anomaly_detection.ipynb\" target=\"_parent\"><img src=\"https://colab.research.google.com/assets/colab-badge.svg\" alt=\"Open In Colab\"/></a>"
      ]
    },
    {
      "cell_type": "markdown",
      "metadata": {
        "id": "PruOiIH9gIzO"
      },
      "source": [
        "## Выявление аномалий в данных"
      ]
    },
    {
      "cell_type": "markdown",
      "metadata": {
        "id": "VuCu4lOSgIzQ"
      },
      "source": [
        "### Квантили\n",
        "\n",
        "В `pandas` определенный квантиль набора данных можно найти при помощи атрибута `quantile`\n",
        "\n",
        "Далее будем работать с данными предоставленными Numenta Anomaly Benchmark (NAB) https://github.com/numenta/NAB. А конкретно с данными такси в Нью-Йорке"
      ]
    },
    {
      "cell_type": "code",
      "execution_count": null,
      "metadata": {
        "id": "3G_-Ox3FgIzS",
        "outputId": "624bf0b6-1787-478f-b7e7-1272fb67776e"
      },
      "outputs": [
        {
          "data": {
            "text/html": [
              "<div>\n",
              "<style scoped>\n",
              "    .dataframe tbody tr th:only-of-type {\n",
              "        vertical-align: middle;\n",
              "    }\n",
              "\n",
              "    .dataframe tbody tr th {\n",
              "        vertical-align: top;\n",
              "    }\n",
              "\n",
              "    .dataframe thead th {\n",
              "        text-align: right;\n",
              "    }\n",
              "</style>\n",
              "<table border=\"1\" class=\"dataframe\">\n",
              "  <thead>\n",
              "    <tr style=\"text-align: right;\">\n",
              "      <th></th>\n",
              "      <th>timestamp</th>\n",
              "      <th>value</th>\n",
              "    </tr>\n",
              "  </thead>\n",
              "  <tbody>\n",
              "    <tr>\n",
              "      <th>0</th>\n",
              "      <td>2014-07-01 00:00:00</td>\n",
              "      <td>10844</td>\n",
              "    </tr>\n",
              "    <tr>\n",
              "      <th>1</th>\n",
              "      <td>2014-07-01 00:30:00</td>\n",
              "      <td>8127</td>\n",
              "    </tr>\n",
              "    <tr>\n",
              "      <th>2</th>\n",
              "      <td>2014-07-01 01:00:00</td>\n",
              "      <td>6210</td>\n",
              "    </tr>\n",
              "    <tr>\n",
              "      <th>3</th>\n",
              "      <td>2014-07-01 01:30:00</td>\n",
              "      <td>4656</td>\n",
              "    </tr>\n",
              "    <tr>\n",
              "      <th>4</th>\n",
              "      <td>2014-07-01 02:00:00</td>\n",
              "      <td>3820</td>\n",
              "    </tr>\n",
              "    <tr>\n",
              "      <th>5</th>\n",
              "      <td>2014-07-01 02:30:00</td>\n",
              "      <td>2873</td>\n",
              "    </tr>\n",
              "    <tr>\n",
              "      <th>6</th>\n",
              "      <td>2014-07-01 03:00:00</td>\n",
              "      <td>2369</td>\n",
              "    </tr>\n",
              "    <tr>\n",
              "      <th>7</th>\n",
              "      <td>2014-07-01 03:30:00</td>\n",
              "      <td>2064</td>\n",
              "    </tr>\n",
              "    <tr>\n",
              "      <th>8</th>\n",
              "      <td>2014-07-01 04:00:00</td>\n",
              "      <td>2221</td>\n",
              "    </tr>\n",
              "    <tr>\n",
              "      <th>9</th>\n",
              "      <td>2014-07-01 04:30:00</td>\n",
              "      <td>2158</td>\n",
              "    </tr>\n",
              "  </tbody>\n",
              "</table>\n",
              "</div>"
            ],
            "text/plain": [
              "            timestamp  value\n",
              "0 2014-07-01 00:00:00  10844\n",
              "1 2014-07-01 00:30:00   8127\n",
              "2 2014-07-01 01:00:00   6210\n",
              "3 2014-07-01 01:30:00   4656\n",
              "4 2014-07-01 02:00:00   3820\n",
              "5 2014-07-01 02:30:00   2873\n",
              "6 2014-07-01 03:00:00   2369\n",
              "7 2014-07-01 03:30:00   2064\n",
              "8 2014-07-01 04:00:00   2221\n",
              "9 2014-07-01 04:30:00   2158"
            ]
          },
          "execution_count": 1,
          "metadata": {},
          "output_type": "execute_result"
        }
      ],
      "source": [
        "import pandas as pd\n",
        "\n",
        "taxi_data = pd.read_csv('nyc_taxi.csv')\n",
        "taxi_data['timestamp'] = taxi_data['timestamp'].astype('datetime64')\n",
        "taxi_data.head(10)"
      ]
    },
    {
      "cell_type": "code",
      "execution_count": null,
      "metadata": {
        "scrolled": true,
        "id": "9df4voAwgIzT",
        "outputId": "bf49c8c8-cf98-4bc4-8e89-95536293b3a1"
      },
      "outputs": [
        {
          "name": "stdout",
          "output_type": "stream",
          "text": [
            "20% квантиль данных: 7028.400000000001\n",
            "80% квантиль данных: 20834.800000000003\n"
          ]
        },
        {
          "data": {
            "text/plain": [
              "(3406, 2)"
            ]
          },
          "execution_count": 4,
          "metadata": {},
          "output_type": "execute_result"
        }
      ],
      "source": [
        "# Выведем 20й и 80й квантили\n",
        "print('20% квантиль данных:', taxi_data['value'].quantile(.2))\n",
        "print('80% квантиль данных:', taxi_data['value'].quantile(.8))\n",
        "\n",
        "# Таким образом можно фильтровать данные\n",
        "data_33_quantile = taxi_data[taxi_data['value'] <= taxi_data['value'].quantile(.33)]\n",
        "data_33_quantile.shape"
      ]
    },
    {
      "cell_type": "markdown",
      "metadata": {
        "id": "Q9I5VKoSgIzU"
      },
      "source": [
        "### Визуализируем квартили"
      ]
    },
    {
      "cell_type": "code",
      "execution_count": null,
      "metadata": {
        "id": "3jcpzXCCgIzV",
        "outputId": "00290223-9633-4061-985b-56c3e8653abf"
      },
      "outputs": [
        {
          "data": {
            "image/png": "[encoded data removed]",
            "text/plain": [
              "<Figure size 864x576 with 1 Axes>"
            ]
          },
          "metadata": {
            "needs_background": "light"
          },
          "output_type": "display_data"
        }
      ],
      "source": [
        "import matplotlib.pyplot as plt\n",
        "\n",
        "plt.figure(figsize = (12, 8))\n",
        "plt.plot(taxi_data['timestamp'], taxi_data['value'], color = '#add8e6')\n",
        "plt.plot((taxi_data['timestamp'][0], taxi_data['timestamp'].iloc[-1]),\n",
        "         (taxi_data['value'].quantile(.25), taxi_data['value'].quantile(.25)), label = 'Q1',\n",
        "        ls = '--')\n",
        "\n",
        "plt.plot((taxi_data['timestamp'][0], taxi_data['timestamp'].iloc[-1]),\n",
        "         (taxi_data['value'].quantile(.50), taxi_data['value'].quantile(.5)), label = 'Q2',\n",
        "        ls = '--')\n",
        "\n",
        "plt.plot((taxi_data['timestamp'][0], taxi_data['timestamp'].iloc[-1]),\n",
        "         (taxi_data['value'].quantile(.75), taxi_data['value'].quantile(.75)), label = 'Q3',\n",
        "        ls = '--')\n",
        "\n",
        "plt.title('Кол-во пассажиров по дням')\n",
        "\n",
        "plt.show()"
      ]
    },
    {
      "cell_type": "markdown",
      "metadata": {
        "id": "GYgrRO5PgIzV"
      },
      "source": [
        "### Диаграмма размаха\n",
        "\n",
        "У `pd.DataFrame` есть атрибут `boxplot` при помощи которого можно построить диаграмму размаха"
      ]
    },
    {
      "cell_type": "code",
      "execution_count": null,
      "metadata": {
        "id": "a_oMLjbCgIzW",
        "outputId": "db765989-f6e6-434b-ac8d-42d0319f9557"
      },
      "outputs": [
        {
          "data": {
            "image/png": "[encoded data removed]",
            "text/plain": [
              "<Figure size 432x576 with 1 Axes>"
            ]
          },
          "metadata": {
            "needs_background": "light"
          },
          "output_type": "display_data"
        }
      ],
      "source": [
        "plt.figure(figsize = (6, 8))\n",
        "taxi_data.boxplot()\n",
        "plt.show()"
      ]
    },
    {
      "cell_type": "markdown",
      "metadata": {
        "id": "vPEDd0s6gIzX"
      },
      "source": [
        "### KNN\n",
        "\n",
        "Напишем своими руками KNN классификатор для двумерного случая\n",
        "\n",
        "Для начала создадим данные"
      ]
    },
    {
      "cell_type": "code",
      "execution_count": null,
      "metadata": {
        "id": "1yZ3GTnqgIzX"
      },
      "outputs": [],
      "source": [
        "# Импорт библиотек\n",
        "import numpy as np\n",
        "import matplotlib.pyplot as plt\n",
        "\n",
        "# Функция для генерации данных\n",
        "def data_generator (classes_num, class_elements_amnt):\n",
        "    data = []\n",
        "    for class_ in range(classes_num):\n",
        "        # Выбиарем случайный центр из двумерного нормального распределения на участке от 0 до 10\n",
        "        X, Y = np.random.randn() * 10, np.random.randn() * 10\n",
        "        # Выбираем случайно элементы класса с отклонением в 0.7\n",
        "        for el in range(class_elements_amnt):\n",
        "            data.append([ [.7 * np.random.randn() + X, .7 * np.random.randn() + X], class_])\n",
        "    return data"
      ]
    },
    {
      "cell_type": "code",
      "execution_count": null,
      "metadata": {
        "id": "UDDrYFAegIzY",
        "outputId": "535aba39-b810-4111-a426-afd48c0f2d6f"
      },
      "outputs": [
        {
          "data": {
            "image/png": "[encoded data removed]",
            "text/plain": [
              "<Figure size 720x720 with 1 Axes>"
            ]
          },
          "metadata": {
            "needs_background": "light"
          },
          "output_type": "display_data"
        }
      ],
      "source": [
        "def plot_data(classes_num, class_elements_amnt):\n",
        "    trainData = data_generator(classes_num, class_elements_amnt)\n",
        "    plt.figure(figsize = (10, 10))\n",
        "    plt.scatter([trainData[i][0][0] for i in range(len(trainData))],\n",
        "               [trainData[i][0][1] for i in range(len(trainData))],\n",
        "               c=[trainData[i][1] for i in range(len(trainData))])\n",
        "    plt.show()\n",
        "\n",
        "plot_data(4, 20)"
      ]
    },
    {
      "cell_type": "markdown",
      "metadata": {
        "id": "qB8ldJJqgIzY"
      },
      "source": [
        "Поделим данные на тренировочную и тестовые выборки"
      ]
    },
    {
      "cell_type": "code",
      "execution_count": null,
      "metadata": {
        "scrolled": true,
        "id": "n19cfPQwgIzZ",
        "outputId": "d34fdd76-22f2-43c5-b47b-8bd904ee0ebc"
      },
      "outputs": [
        {
          "name": "stdout",
          "output_type": "stream",
          "text": [
            "160\n"
          ]
        }
      ],
      "source": [
        "data = data_generator(4, 40)\n",
        "print(len(data))"
      ]
    },
    {
      "cell_type": "code",
      "execution_count": null,
      "metadata": {
        "id": "eG_XYKBXgIzZ"
      },
      "outputs": [],
      "source": [
        "def train_test_split(data, test_size = 0.2, random_state = 1):\n",
        "    L = len(data)\n",
        "    np.random.shuffle(data)\n",
        "    train, test = data[:int((1-test_size) * L)], data[int((1-test_size) * L):]\n",
        "    return train, test\n",
        "\n",
        "\n",
        "\n",
        "train, test = train_test_split(data)"
      ]
    },
    {
      "cell_type": "markdown",
      "metadata": {
        "id": "GdBQPUhKgIzZ"
      },
      "source": [
        "Расстояние до объектов тренировочной выборки рассчитывается как $$D_E = \\sqrt{\\sum \\limits_{i}^{n}(x_i\\,-\\,y_i)^2}$$ где n - кол-во атрибутов\n",
        "\n",
        "Напишем функцию, реализующую алгоритм"
      ]
    },
    {
      "cell_type": "code",
      "execution_count": null,
      "metadata": {
        "id": "J5EO88G6gIza"
      },
      "outputs": [],
      "source": [
        "def KNN (X_train, X_test, class_num, k = 5):\n",
        "\n",
        "    # Расстояние между точками на плоскости\n",
        "    def point_dist (a, b):\n",
        "        return np.sqrt((a[0][0] - b[0])**2 + (a[0][1] - b[1])**2)\n",
        "\n",
        "    pred = []\n",
        "\n",
        "    for point in X_test:\n",
        "        # Находим расстояние от точки до всех точек тренировочной выборки\n",
        "        dist = [ [point_dist(point, X_train[i][0]), X_train[i][1]] for i in range(len(X_train))]\n",
        "\n",
        "        # Находим K ближащих точек\n",
        "        stat = [0 for i in range(class_num)]\n",
        "        for d in sorted(dist)[0:k]:\n",
        "            stat[d[1]] += 1\n",
        "\n",
        "        # Присваиваем точке самый распространенный класс среди K соседей (Мажоритарное голосование)\n",
        "        pred.append( sorted(zip(stat, range(class_num)), reverse=True)[0][1] )\n",
        "    return pred"
      ]
    },
    {
      "cell_type": "code",
      "execution_count": null,
      "metadata": {
        "id": "iUEj1pNhgIza",
        "outputId": "c657743f-fe9b-479b-bb29-028edec293d9"
      },
      "outputs": [
        {
          "data": {
            "text/plain": [
              "[1,\n",
              " 0,\n",
              " 1,\n",
              " 0,\n",
              " 1,\n",
              " 2,\n",
              " 1,\n",
              " 1,\n",
              " 2,\n",
              " 3,\n",
              " 1,\n",
              " 2,\n",
              " 2,\n",
              " 1,\n",
              " 2,\n",
              " 0,\n",
              " 1,\n",
              " 2,\n",
              " 2,\n",
              " 3,\n",
              " 0,\n",
              " 1,\n",
              " 0,\n",
              " 1,\n",
              " 0,\n",
              " 3,\n",
              " 0,\n",
              " 0,\n",
              " 1,\n",
              " 0,\n",
              " 3,\n",
              " 3]"
            ]
          },
          "execution_count": 14,
          "metadata": {},
          "output_type": "execute_result"
        }
      ],
      "source": [
        "pred = KNN(train, test, 4, k = 7)\n",
        "pred"
      ]
    },
    {
      "cell_type": "markdown",
      "metadata": {
        "id": "Mkv-iwQigIzb"
      },
      "source": [
        "### KNN в sklearn\n",
        "\n",
        "В библиотеке `sklearn` KNN классификатор реализован как класс `KNeighborsClassifier`\n",
        "\n",
        "https://scikit-learn.org/stable/modules/generated/sklearn.neighbors.KNeighborsClassifier.html"
      ]
    },
    {
      "cell_type": "code",
      "execution_count": null,
      "metadata": {
        "id": "pd4dOqSsgIzb",
        "outputId": "07f4ac29-585f-4fb5-ffd3-d24b960eb17e"
      },
      "outputs": [
        {
          "data": {
            "text/plain": [
              "array([1, 0, 1, 0, 1, 2, 1, 1, 2, 3, 1, 2, 2, 1, 2, 0, 1, 2, 2, 3, 0, 1,\n",
              "       0, 1, 0, 3, 0, 0, 1, 0, 3, 3])"
            ]
          },
          "execution_count": 15,
          "metadata": {},
          "output_type": "execute_result"
        }
      ],
      "source": [
        "from sklearn.neighbors import KNeighborsClassifier\n",
        "\n",
        "# Создадим и обучим модель\n",
        "knn = KNeighborsClassifier()\n",
        "knn.fit([train[i][0] for i in range(len(train))], [train[i][1] for i in range(len(train))])\n",
        "pred = knn.predict([test[i][0] for i in range(len(test))])\n",
        "pred"
      ]
    },
    {
      "cell_type": "code",
      "execution_count": null,
      "metadata": {
        "id": "Lmih1ZibgIzb",
        "outputId": "2ccc74c7-b8f6-401b-8551-ae79c95dce3c"
      },
      "outputs": [
        {
          "data": {
            "text/plain": [
              "1.0"
            ]
          },
          "execution_count": 16,
          "metadata": {},
          "output_type": "execute_result"
        }
      ],
      "source": [
        "from sklearn.metrics import accuracy_score\n",
        "\n",
        "accuracy_score(pred, [test[i][1] for i in range(len(test))])"
      ]
    },
    {
      "cell_type": "markdown",
      "metadata": {
        "id": "hOPd5eGCgIzb"
      },
      "source": [
        "### KNN для поиска аномалий в данных\n",
        "\n",
        "KNN можно использовать для поиска аномалий в новых данных на основе исторических. Приведем задачу пассажиров такси к задаче классификации. Будем считать аномальными все данные, которые находятся вне 95% квартиля"
      ]
    },
    {
      "cell_type": "code",
      "execution_count": null,
      "metadata": {
        "id": "klMHOBxfgIzc",
        "outputId": "0f71053e-a117-43d0-f904-e8b1f5d16f25"
      },
      "outputs": [
        {
          "data": {
            "text/html": [
              "<div>\n",
              "<style scoped>\n",
              "    .dataframe tbody tr th:only-of-type {\n",
              "        vertical-align: middle;\n",
              "    }\n",
              "\n",
              "    .dataframe tbody tr th {\n",
              "        vertical-align: top;\n",
              "    }\n",
              "\n",
              "    .dataframe thead th {\n",
              "        text-align: right;\n",
              "    }\n",
              "</style>\n",
              "<table border=\"1\" class=\"dataframe\">\n",
              "  <thead>\n",
              "    <tr style=\"text-align: right;\">\n",
              "      <th></th>\n",
              "      <th>timestamp</th>\n",
              "      <th>value</th>\n",
              "      <th>label</th>\n",
              "    </tr>\n",
              "  </thead>\n",
              "  <tbody>\n",
              "    <tr>\n",
              "      <th>3272</th>\n",
              "      <td>2014-09-07 04:00:00</td>\n",
              "      <td>10896</td>\n",
              "      <td>0</td>\n",
              "    </tr>\n",
              "    <tr>\n",
              "      <th>187</th>\n",
              "      <td>2014-07-04 21:30:00</td>\n",
              "      <td>14021</td>\n",
              "      <td>0</td>\n",
              "    </tr>\n",
              "    <tr>\n",
              "      <th>10142</th>\n",
              "      <td>2015-01-28 07:00:00</td>\n",
              "      <td>14063</td>\n",
              "      <td>0</td>\n",
              "    </tr>\n",
              "    <tr>\n",
              "      <th>3824</th>\n",
              "      <td>2014-09-18 16:00:00</td>\n",
              "      <td>13635</td>\n",
              "      <td>0</td>\n",
              "    </tr>\n",
              "    <tr>\n",
              "      <th>3335</th>\n",
              "      <td>2014-09-08 11:30:00</td>\n",
              "      <td>17370</td>\n",
              "      <td>0</td>\n",
              "    </tr>\n",
              "    <tr>\n",
              "      <th>9070</th>\n",
              "      <td>2015-01-05 23:00:00</td>\n",
              "      <td>11660</td>\n",
              "      <td>0</td>\n",
              "    </tr>\n",
              "    <tr>\n",
              "      <th>5127</th>\n",
              "      <td>2014-10-15 19:30:00</td>\n",
              "      <td>26273</td>\n",
              "      <td>1</td>\n",
              "    </tr>\n",
              "    <tr>\n",
              "      <th>7913</th>\n",
              "      <td>2014-12-12 20:30:00</td>\n",
              "      <td>25190</td>\n",
              "      <td>1</td>\n",
              "    </tr>\n",
              "    <tr>\n",
              "      <th>6152</th>\n",
              "      <td>2014-11-06 04:00:00</td>\n",
              "      <td>3122</td>\n",
              "      <td>0</td>\n",
              "    </tr>\n",
              "    <tr>\n",
              "      <th>3478</th>\n",
              "      <td>2014-09-11 11:00:00</td>\n",
              "      <td>16583</td>\n",
              "      <td>0</td>\n",
              "    </tr>\n",
              "  </tbody>\n",
              "</table>\n",
              "</div>"
            ],
            "text/plain": [
              "                timestamp  value  label\n",
              "3272  2014-09-07 04:00:00  10896      0\n",
              "187   2014-07-04 21:30:00  14021      0\n",
              "10142 2015-01-28 07:00:00  14063      0\n",
              "3824  2014-09-18 16:00:00  13635      0\n",
              "3335  2014-09-08 11:30:00  17370      0\n",
              "9070  2015-01-05 23:00:00  11660      0\n",
              "5127  2014-10-15 19:30:00  26273      1\n",
              "7913  2014-12-12 20:30:00  25190      1\n",
              "6152  2014-11-06 04:00:00   3122      0\n",
              "3478  2014-09-11 11:00:00  16583      0"
            ]
          },
          "execution_count": 18,
          "metadata": {},
          "output_type": "execute_result"
        }
      ],
      "source": [
        "taxi_data['label'] = [1 if i > taxi_data['value'].quantile(.95) else 0 for i in taxi_data['value']]\n",
        "taxi_data.sample(10)"
      ]
    },
    {
      "cell_type": "code",
      "execution_count": null,
      "metadata": {
        "id": "kwLL7HTPgIzc",
        "outputId": "a0c44ce1-1c43-45a8-e322-cab09ad76222"
      },
      "outputs": [
        {
          "name": "stdout",
          "output_type": "stream",
          "text": [
            "[0 0 0 0 0 0 0 0 0 0]\n"
          ]
        }
      ],
      "source": [
        "from sklearn.model_selection import train_test_split\n",
        "X = taxi_data['value'].to_numpy().reshape(-1, 1)\n",
        "y = taxi_data['label']\n",
        "\n",
        "X_train, X_test, y_train, y_test = train_test_split(X, y, test_size = 0.2, random_state = 42)\n",
        "\n",
        "knn.fit(X_train, y_train)\n",
        "pred = knn.predict(X_test)\n",
        "\n",
        "print(pred[:10])"
      ]
    },
    {
      "cell_type": "markdown",
      "metadata": {
        "id": "jYV_m7Q9gIzc"
      },
      "source": [
        "### Isolation forest\n",
        "\n",
        "Isolation forest находится в модуле `ensemble` библиотеки `sklearn`"
      ]
    },
    {
      "cell_type": "code",
      "execution_count": null,
      "metadata": {
        "id": "VVzVCJGhgIzc",
        "outputId": "9beffd04-f54c-47b7-8aea-9233b87554d7"
      },
      "outputs": [
        {
          "data": {
            "image/png": "[encoded data removed]",
            "text/plain": [
              "<Figure size 720x720 with 1 Axes>"
            ]
          },
          "metadata": {
            "needs_background": "light"
          },
          "output_type": "display_data"
        }
      ],
      "source": [
        "from sklearn.ensemble import IsolationForest\n",
        "\n",
        "# Создадим и обучим модели\n",
        "i_for = IsolationForest(n_estimators = 300, random_state = 42)\n",
        "\n",
        "i_for.fit(X_train)\n",
        "pred_train = i_for.predict(X_train)\n",
        "pred_test = i_for.predict(X_test)\n",
        "\n",
        "# Оценка аномальности\n",
        "pred_train_prob = i_for.decision_function(X_train)\n",
        "pred_test_prob = i_for.decision_function(X_test)\n",
        "\n",
        "plt.figure(figsize = (10, 10))\n",
        "pd.Series(pred_test_prob).hist()\n",
        "plt.title('Оценка наблюдений на аномальность. Чем ниже, тем выше вероятность быть аномалией')\n",
        "plt.show()"
      ]
    },
    {
      "cell_type": "code",
      "execution_count": null,
      "metadata": {
        "id": "hWTpwnPIgIzd"
      },
      "outputs": [],
      "source": []
    }
  ],
  "metadata": {
    "kernelspec": {
      "display_name": "Python 3",
      "language": "python",
      "name": "python3"
    },
    "language_info": {
      "codemirror_mode": {
        "name": "ipython",
        "version": 3
      },
      "file_extension": ".py",
      "mimetype": "text/x-python",
      "name": "python",
      "nbconvert_exporter": "python",
      "pygments_lexer": "ipython3",
      "version": "3.7.4"
    },
    "colab": {
      "provenance": [],
      "include_colab_link": true
    }
  },
  "nbformat": 4,
  "nbformat_minor": 0
}